{
  "nbformat": 4,
  "nbformat_minor": 0,
  "metadata": {
    "colab": {
      "provenance": [],
      "authorship_tag": "ABX9TyNushzWHAgv4jN+6AfM79nY",
      "include_colab_link": true
    },
    "kernelspec": {
      "name": "python3",
      "display_name": "Python 3"
    },
    "language_info": {
      "name": "python"
    }
  },
  "cells": [
    {
      "cell_type": "markdown",
      "metadata": {
        "id": "view-in-github",
        "colab_type": "text"
      },
      "source": [
        "<a href=\"https://colab.research.google.com/github/EunSeong22/text_analysis/blob/main/%EC%8B%A4%EC%8A%B5_02.ipynb\" target=\"_parent\"><img src=\"https://colab.research.google.com/assets/colab-badge.svg\" alt=\"Open In Colab\"/></a>"
      ]
    },
    {
      "cell_type": "markdown",
      "source": [
        "## 단어의 벡터와, 문장의 행렬화 실습 :BOW"
      ],
      "metadata": {
        "id": "BLc-LCCItyDy"
      }
    },
    {
      "cell_type": "markdown",
      "source": [
        "### CountVectorizer 실습"
      ],
      "metadata": {
        "id": "sUULzmLsuJyE"
      }
    },
    {
      "cell_type": "code",
      "execution_count": null,
      "metadata": {
        "id": "YrG6KlA3tvdu"
      },
      "outputs": [],
      "source": [
        "from sklearn.feature_extraction.text import CountVectorizer"
      ]
    },
    {
      "cell_type": "code",
      "source": [
        "## CountVectorizer 객체 생성\n",
        "\n",
        "ko_count = CountVectorizer()\n",
        "en_count = CountVectorizer()"
      ],
      "metadata": {
        "id": "HoN2W-duu1KB"
      },
      "execution_count": null,
      "outputs": []
    },
    {
      "cell_type": "code",
      "source": [
        "### 한글 실습용 텍스트 데이터 생성 및 단어 사전 생성하기\n",
        "\n",
        "# 실습용 텍스트 데이터 생성\n",
        "\n",
        "ko_text = ['나는 배가 고프다', '내일 점심 뭐 먹지', '내일 공부 해야겠다.', '점심 먹고 공부 해야지']\n",
        "\n",
        "# fit()함수 이용 --> 자동으로 토큰화, 단어사전 생성\n",
        "\n",
        "ko_count.fit(ko_text)\n",
        "\n",
        "ko_vocab = ko_count.vocabulary_\n",
        "print(ko_vocab)"
      ],
      "metadata": {
        "colab": {
          "base_uri": "https://localhost:8080/"
        },
        "id": "1cYnAJtMvVDi",
        "outputId": "e3fc2538-9450-4064-f907-64f4c2901598"
      },
      "execution_count": null,
      "outputs": [
        {
          "output_type": "stream",
          "name": "stdout",
          "text": [
            "{'나는': 2, '배가': 6, '고프다': 0, '내일': 3, '점심': 7, '먹지': 5, '공부': 1, '해야겠다': 8, '먹고': 4, '해야지': 9}\n"
          ]
        }
      ]
    },
    {
      "cell_type": "code",
      "source": [
        "### 한글 단어 사전 -> 정렬\n",
        "\n",
        "sorted_vocab = sorted(ko_vocab.items())\n",
        "print(sorted_vocab)"
      ],
      "metadata": {
        "colab": {
          "base_uri": "https://localhost:8080/"
        },
        "id": "TbkGlCDt2PxX",
        "outputId": "94173cc4-105b-4570-8d87-c88ecdc0ca01"
      },
      "execution_count": null,
      "outputs": [
        {
          "output_type": "stream",
          "name": "stdout",
          "text": [
            "[('고프다', 0), ('공부', 1), ('나는', 2), ('내일', 3), ('먹고', 4), ('먹지', 5), ('배가', 6), ('점심', 7), ('해야겠다', 8), ('해야지', 9)]\n"
          ]
        }
      ]
    },
    {
      "cell_type": "code",
      "source": [
        "ko_sentence1 = [ko_text[0]]\n",
        "ko_sentence2 = [ko_text[1]]\n",
        "\n",
        "print(ko_sentence1)\n",
        "print(ko_sentence2)\n",
        "\n",
        "\n",
        "ko_matrix1 = ko_count.transform(ko_sentence1)\n",
        "ko_matrix2 = ko_count.transform(ko_sentence2)\n",
        "print(ko_matrix1)\n",
        "print(ko_matrix2)"
      ],
      "metadata": {
        "colab": {
          "base_uri": "https://localhost:8080/"
        },
        "id": "ilQc9gpe55bV",
        "outputId": "33b7b638-2296-48b7-c082-7eb65c59075f"
      },
      "execution_count": null,
      "outputs": [
        {
          "output_type": "stream",
          "name": "stdout",
          "text": [
            "['나는 배가 고프다']\n",
            "['내일 점심 뭐 먹지']\n",
            "  (0, 0)\t1\n",
            "  (0, 2)\t1\n",
            "  (0, 6)\t1\n",
            "  (0, 3)\t1\n",
            "  (0, 5)\t1\n",
            "  (0, 7)\t1\n"
          ]
        }
      ]
    },
    {
      "cell_type": "code",
      "source": [
        "#영어 텍스트 데이터 생성\n",
        "\n",
        "en_text = ['You already know what The Present is', 'You already know where to find it', 'And you already know how it can make you happy and successful', 'You knew it best when you were younger', 'You have simply forgotten']\n",
        "\n",
        "# fit()\n",
        "\n",
        "en_count.fit(en_text)\n",
        "en_vocab = en_count.vocabulary_\n",
        "\n",
        "print(en_vocab)"
      ],
      "metadata": {
        "colab": {
          "base_uri": "https://localhost:8080/"
        },
        "id": "0qY1vemrDMb2",
        "outputId": "d2d03c62-2383-404d-b087-b4444ea9b1dd"
      },
      "execution_count": null,
      "outputs": [
        {
          "output_type": "stream",
          "name": "stdout",
          "text": [
            "{'you': 23, 'already': 0, 'know': 12, 'what': 20, 'the': 17, 'present': 14, 'is': 9, 'where': 22, 'to': 18, 'find': 4, 'it': 10, 'and': 1, 'how': 8, 'can': 3, 'make': 13, 'happy': 6, 'successful': 16, 'knew': 11, 'best': 2, 'when': 21, 'were': 19, 'younger': 24, 'have': 7, 'simply': 15, 'forgotten': 5}\n"
          ]
        }
      ]
    },
    {
      "cell_type": "code",
      "source": [
        "### 영어 단어 사전 -> 정렬\n",
        "\n",
        "sorted_vocab_en = sorted(en_vocab.items())\n",
        "print(sorted_vocab_en)"
      ],
      "metadata": {
        "colab": {
          "base_uri": "https://localhost:8080/"
        },
        "id": "HJnJ1qG1DyOx",
        "outputId": "5bd459f3-2507-4401-ee7f-6150ae8e1722"
      },
      "execution_count": null,
      "outputs": [
        {
          "output_type": "stream",
          "name": "stdout",
          "text": [
            "[('already', 0), ('and', 1), ('best', 2), ('can', 3), ('find', 4), ('forgotten', 5), ('happy', 6), ('have', 7), ('how', 8), ('is', 9), ('it', 10), ('knew', 11), ('know', 12), ('make', 13), ('present', 14), ('simply', 15), ('successful', 16), ('the', 17), ('to', 18), ('were', 19), ('what', 20), ('when', 21), ('where', 22), ('you', 23), ('younger', 24)]\n"
          ]
        }
      ]
    },
    {
      "cell_type": "code",
      "source": [
        "en_sentence = [en_text[0]]\n",
        "\n",
        "print(en_sentence)\n",
        "\n",
        "#transform().toarray() 함수 사용 --> 자동으로 문장의 행렬화\n",
        "en_matrix = en_count.transform(en_sentence).toarray()\n",
        "\n",
        "print(en_matrix)"
      ],
      "metadata": {
        "colab": {
          "base_uri": "https://localhost:8080/"
        },
        "id": "Bedth_CdEMGE",
        "outputId": "ffcb9c12-8d24-4778-a43a-de828d0e7c4f"
      },
      "execution_count": null,
      "outputs": [
        {
          "output_type": "stream",
          "name": "stdout",
          "text": [
            "['You already know what The Present is']\n",
            "[[1 0 0 0 0 0 0 0 0 1 0 0 1 0 1 0 0 1 0 0 1 0 0 1 0]]\n"
          ]
        }
      ]
    },
    {
      "cell_type": "markdown",
      "source": [
        "### TF-IDF 실습"
      ],
      "metadata": {
        "id": "1-6_plmiLdRn"
      }
    },
    {
      "cell_type": "code",
      "source": [
        "from sklearn.feature_extraction.text import TfidfVectorizer"
      ],
      "metadata": {
        "id": "F2G_-P5yF73x"
      },
      "execution_count": null,
      "outputs": []
    },
    {
      "cell_type": "code",
      "source": [
        "ko_text = ['나는 배가 고프다', '내일 점심 뭐 먹지', '내일 공부 해야겠다.', '점심 먹고 공부 해야지']\n",
        "\n",
        "tfidf = TfidfVectorizer()\n",
        "\n",
        "tfidf.fit(ko_text)"
      ],
      "metadata": {
        "colab": {
          "base_uri": "https://localhost:8080/",
          "height": 74
        },
        "id": "w1wKNHXiLcjT",
        "outputId": "3f4d43a5-bf7b-410f-9af1-91c973937389"
      },
      "execution_count": null,
      "outputs": [
        {
          "output_type": "execute_result",
          "data": {
            "text/plain": [
              "TfidfVectorizer()"
            ],
            "text/html": [
              "<style>#sk-container-id-1 {color: black;background-color: white;}#sk-container-id-1 pre{padding: 0;}#sk-container-id-1 div.sk-toggleable {background-color: white;}#sk-container-id-1 label.sk-toggleable__label {cursor: pointer;display: block;width: 100%;margin-bottom: 0;padding: 0.3em;box-sizing: border-box;text-align: center;}#sk-container-id-1 label.sk-toggleable__label-arrow:before {content: \"▸\";float: left;margin-right: 0.25em;color: #696969;}#sk-container-id-1 label.sk-toggleable__label-arrow:hover:before {color: black;}#sk-container-id-1 div.sk-estimator:hover label.sk-toggleable__label-arrow:before {color: black;}#sk-container-id-1 div.sk-toggleable__content {max-height: 0;max-width: 0;overflow: hidden;text-align: left;background-color: #f0f8ff;}#sk-container-id-1 div.sk-toggleable__content pre {margin: 0.2em;color: black;border-radius: 0.25em;background-color: #f0f8ff;}#sk-container-id-1 input.sk-toggleable__control:checked~div.sk-toggleable__content {max-height: 200px;max-width: 100%;overflow: auto;}#sk-container-id-1 input.sk-toggleable__control:checked~label.sk-toggleable__label-arrow:before {content: \"▾\";}#sk-container-id-1 div.sk-estimator input.sk-toggleable__control:checked~label.sk-toggleable__label {background-color: #d4ebff;}#sk-container-id-1 div.sk-label input.sk-toggleable__control:checked~label.sk-toggleable__label {background-color: #d4ebff;}#sk-container-id-1 input.sk-hidden--visually {border: 0;clip: rect(1px 1px 1px 1px);clip: rect(1px, 1px, 1px, 1px);height: 1px;margin: -1px;overflow: hidden;padding: 0;position: absolute;width: 1px;}#sk-container-id-1 div.sk-estimator {font-family: monospace;background-color: #f0f8ff;border: 1px dotted black;border-radius: 0.25em;box-sizing: border-box;margin-bottom: 0.5em;}#sk-container-id-1 div.sk-estimator:hover {background-color: #d4ebff;}#sk-container-id-1 div.sk-parallel-item::after {content: \"\";width: 100%;border-bottom: 1px solid gray;flex-grow: 1;}#sk-container-id-1 div.sk-label:hover label.sk-toggleable__label {background-color: #d4ebff;}#sk-container-id-1 div.sk-serial::before {content: \"\";position: absolute;border-left: 1px solid gray;box-sizing: border-box;top: 0;bottom: 0;left: 50%;z-index: 0;}#sk-container-id-1 div.sk-serial {display: flex;flex-direction: column;align-items: center;background-color: white;padding-right: 0.2em;padding-left: 0.2em;position: relative;}#sk-container-id-1 div.sk-item {position: relative;z-index: 1;}#sk-container-id-1 div.sk-parallel {display: flex;align-items: stretch;justify-content: center;background-color: white;position: relative;}#sk-container-id-1 div.sk-item::before, #sk-container-id-1 div.sk-parallel-item::before {content: \"\";position: absolute;border-left: 1px solid gray;box-sizing: border-box;top: 0;bottom: 0;left: 50%;z-index: -1;}#sk-container-id-1 div.sk-parallel-item {display: flex;flex-direction: column;z-index: 1;position: relative;background-color: white;}#sk-container-id-1 div.sk-parallel-item:first-child::after {align-self: flex-end;width: 50%;}#sk-container-id-1 div.sk-parallel-item:last-child::after {align-self: flex-start;width: 50%;}#sk-container-id-1 div.sk-parallel-item:only-child::after {width: 0;}#sk-container-id-1 div.sk-dashed-wrapped {border: 1px dashed gray;margin: 0 0.4em 0.5em 0.4em;box-sizing: border-box;padding-bottom: 0.4em;background-color: white;}#sk-container-id-1 div.sk-label label {font-family: monospace;font-weight: bold;display: inline-block;line-height: 1.2em;}#sk-container-id-1 div.sk-label-container {text-align: center;}#sk-container-id-1 div.sk-container {/* jupyter's `normalize.less` sets `[hidden] { display: none; }` but bootstrap.min.css set `[hidden] { display: none !important; }` so we also need the `!important` here to be able to override the default hidden behavior on the sphinx rendered scikit-learn.org. See: https://github.com/scikit-learn/scikit-learn/issues/21755 */display: inline-block !important;position: relative;}#sk-container-id-1 div.sk-text-repr-fallback {display: none;}</style><div id=\"sk-container-id-1\" class=\"sk-top-container\"><div class=\"sk-text-repr-fallback\"><pre>TfidfVectorizer()</pre><b>In a Jupyter environment, please rerun this cell to show the HTML representation or trust the notebook. <br />On GitHub, the HTML representation is unable to render, please try loading this page with nbviewer.org.</b></div><div class=\"sk-container\" hidden><div class=\"sk-item\"><div class=\"sk-estimator sk-toggleable\"><input class=\"sk-toggleable__control sk-hidden--visually\" id=\"sk-estimator-id-1\" type=\"checkbox\" checked><label for=\"sk-estimator-id-1\" class=\"sk-toggleable__label sk-toggleable__label-arrow\">TfidfVectorizer</label><div class=\"sk-toggleable__content\"><pre>TfidfVectorizer()</pre></div></div></div></div></div>"
            ]
          },
          "metadata": {},
          "execution_count": 23
        }
      ]
    },
    {
      "cell_type": "code",
      "source": [
        "# 단어 사전 확인하기\n",
        "tfidf_vocab = tfidf.vocabulary_\n",
        "\n",
        "print(tfidf_vocab)"
      ],
      "metadata": {
        "colab": {
          "base_uri": "https://localhost:8080/"
        },
        "id": "J7HA9HKrLj-P",
        "outputId": "9b12174a-56b8-4264-bcfc-e91e77017e5e"
      },
      "execution_count": null,
      "outputs": [
        {
          "output_type": "stream",
          "name": "stdout",
          "text": [
            "{'나는': 2, '배가': 6, '고프다': 0, '내일': 3, '점심': 7, '먹지': 5, '공부': 1, '해야겠다': 8, '먹고': 4, '해야지': 9}\n"
          ]
        }
      ]
    },
    {
      "cell_type": "code",
      "source": [
        "sentence = [ko_text[0]]\n",
        "\n",
        "tfidf_matrix = tfidf.transform(sentence).toarray()\n",
        "\n",
        "print(tfidf_matrix)"
      ],
      "metadata": {
        "colab": {
          "base_uri": "https://localhost:8080/"
        },
        "id": "q1HYqXRNM18J",
        "outputId": "476e0f14-2eed-4a45-dff4-0b79fa6a8075"
      },
      "execution_count": null,
      "outputs": [
        {
          "output_type": "stream",
          "name": "stdout",
          "text": [
            "[[0.57735027 0.         0.57735027 0.         0.         0.\n",
            "  0.57735027 0.         0.         0.        ]]\n"
          ]
        }
      ]
    },
    {
      "cell_type": "markdown",
      "source": [
        "### One-Hot Encoding 실습"
      ],
      "metadata": {
        "id": "kLEXdXkNiA0E"
      }
    },
    {
      "cell_type": "code",
      "source": [
        "import tensorflow as tf"
      ],
      "metadata": {
        "id": "ujJ_HJa6iAc1"
      },
      "execution_count": null,
      "outputs": []
    },
    {
      "cell_type": "code",
      "source": [
        "### Tokenizer 객체 생성\n",
        "tokenizer = tf.keras.preprocessing.text.Tokenizer()"
      ],
      "metadata": {
        "id": "Qu5ymgvQigxR"
      },
      "execution_count": null,
      "outputs": []
    },
    {
      "cell_type": "code",
      "source": [
        "ko_text = ['나는 배가 고프다', '내일 점심 뭐 먹지', '내일 공부 해야겠다.', '점심 먹고 공부 해야지']\n",
        "\n",
        "tokenizer.fit_on_texts(ko_text)\n",
        "\n",
        "word_to_index = tokenizer.word_index\n",
        "\n",
        "print(word_to_index)\n",
        "\n",
        "# 단어들의 빈도수 확인 --> word_counts 이용\n",
        "\n",
        "counts = tokenizer.word_counts\n",
        "print(counts)"
      ],
      "metadata": {
        "colab": {
          "base_uri": "https://localhost:8080/"
        },
        "id": "MciX08yklfZj",
        "outputId": "a8a4e3b4-875e-4220-e69d-f4f809a403ae"
      },
      "execution_count": null,
      "outputs": [
        {
          "output_type": "stream",
          "name": "stdout",
          "text": [
            "{'내일': 1, '점심': 2, '공부': 3, '나는': 4, '배가': 5, '고프다': 6, '뭐': 7, '먹지': 8, '해야겠다': 9, '먹고': 10, '해야지': 11}\n",
            "OrderedDict([('나는', 3), ('배가', 3), ('고프다', 3), ('내일', 6), ('점심', 6), ('뭐', 3), ('먹지', 3), ('공부', 6), ('해야겠다', 3), ('먹고', 3), ('해야지', 3)])\n"
          ]
        }
      ]
    },
    {
      "cell_type": "code",
      "source": [
        "sentence = [ko_text[3]]\n",
        "\n",
        "encoded = tokenizer.texts_to_sequences(sentence)\n",
        "\n",
        "print(encoded)"
      ],
      "metadata": {
        "colab": {
          "base_uri": "https://localhost:8080/"
        },
        "id": "HaZeEFx8s7a7",
        "outputId": "0694454b-e87f-4910-c23e-471011ce7e27"
      },
      "execution_count": null,
      "outputs": [
        {
          "output_type": "stream",
          "name": "stdout",
          "text": [
            "[[2, 10, 3, 11]]\n"
          ]
        }
      ]
    },
    {
      "cell_type": "code",
      "source": [
        "one_hot = tf.keras.utils.to_categorical(encoded)\n",
        "\n",
        "print(one_hot)"
      ],
      "metadata": {
        "colab": {
          "base_uri": "https://localhost:8080/"
        },
        "id": "uXOSotFjws8x",
        "outputId": "1ead86b5-f3a5-4b6a-8d81-9477fb812340"
      },
      "execution_count": null,
      "outputs": [
        {
          "output_type": "stream",
          "name": "stdout",
          "text": [
            "[[[0. 0. 1. 0. 0. 0. 0. 0. 0. 0. 0. 0.]\n",
            "  [0. 0. 0. 0. 0. 0. 0. 0. 0. 0. 1. 0.]\n",
            "  [0. 0. 0. 1. 0. 0. 0. 0. 0. 0. 0. 0.]\n",
            "  [0. 0. 0. 0. 0. 0. 0. 0. 0. 0. 0. 1.]]]\n"
          ]
        }
      ]
    },
    {
      "cell_type": "markdown",
      "source": [
        "## 텍스트 유사도 측정 - 코사인 유사도"
      ],
      "metadata": {
        "id": "BPVljMJsKNJ7"
      }
    },
    {
      "cell_type": "code",
      "source": [
        "'''\n",
        "1. 두 개의 문장을 이용하여 Tfidfvectorizer를 이용하여 행렬로 나타낸다.\n",
        "2. 코사인 유사도 공식을 사용하여 두 문장 간의 유사도를 측정\n",
        "'''\n",
        "from sklearn.metrics.pairwise import cosine_similarity\n",
        "from sklearn.feature_extraction.text import TfidfVectorizer"
      ],
      "metadata": {
        "id": "Halr0a72KP5k"
      },
      "execution_count": null,
      "outputs": []
    },
    {
      "cell_type": "code",
      "source": [
        "tfidf = TfidfVectorizer()"
      ],
      "metadata": {
        "id": "doFG2yxsK8di"
      },
      "execution_count": null,
      "outputs": []
    },
    {
      "cell_type": "code",
      "source": [
        "### 영문 텍스트 생성\n",
        "en_sentences = ['What should I do to be a great scientist?', 'How can I be a scientist in the future?']\n"
      ],
      "metadata": {
        "id": "HdZQe_h7LPUP"
      },
      "execution_count": null,
      "outputs": []
    },
    {
      "cell_type": "code",
      "source": [
        "### fit() --> 단어 사전 생성\n",
        "tfidf.fit(en_sentences)\n",
        "\n",
        "#생성된 단어 사전 확인하기\n",
        "\n",
        "vocab= tfidf.vocabulary_\n",
        "\n",
        "print(vocab)"
      ],
      "metadata": {
        "colab": {
          "base_uri": "https://localhost:8080/"
        },
        "id": "VQxxAJqtMAQG",
        "outputId": "a4f19154-023a-48c0-c324-3f3606b205f9"
      },
      "execution_count": null,
      "outputs": [
        {
          "output_type": "stream",
          "name": "stdout",
          "text": [
            "{'what': 11, 'should': 8, 'do': 2, 'to': 10, 'be': 0, 'great': 4, 'scientist': 7, 'how': 5, 'can': 1, 'in': 6, 'the': 9, 'future': 3}\n"
          ]
        }
      ]
    },
    {
      "cell_type": "code",
      "source": [
        "### 실습용 텍스트 데이터 생성 --> 각각 문장 --> 리스트 자료형 데이터 생성\n",
        "\n",
        "en_data1 = [en_sentences[0]]\n",
        "en_data2 = [en_sentences[1]]\n",
        "\n",
        "print(en_data1)"
      ],
      "metadata": {
        "colab": {
          "base_uri": "https://localhost:8080/"
        },
        "id": "L9jcl9y-Mo0c",
        "outputId": "0bcf23a2-3fe2-458a-c683-06eb77f44326"
      },
      "execution_count": null,
      "outputs": [
        {
          "output_type": "stream",
          "name": "stdout",
          "text": [
            "['What should I do to be a great scientist?']\n"
          ]
        }
      ]
    },
    {
      "cell_type": "code",
      "source": [
        "### transform().toarray() 함수 이용 -> 문장의 행렬화 완성\n",
        "X = tfidf.transform(en_data1).toarray()\n",
        "Y = tfidf.transform(en_data2).toarray()\n",
        "\n",
        "print(X)\n",
        "print(Y)"
      ],
      "metadata": {
        "colab": {
          "base_uri": "https://localhost:8080/"
        },
        "id": "O-V5H6ffNjY1",
        "outputId": "fa82f232-86d2-4b1d-d784-ec05f01dfdee"
      },
      "execution_count": null,
      "outputs": [
        {
          "output_type": "stream",
          "name": "stdout",
          "text": [
            "[[0.29017021 0.         0.4078241  0.         0.4078241  0.\n",
            "  0.         0.29017021 0.4078241  0.         0.4078241  0.4078241 ]]\n",
            "[[0.29017021 0.4078241  0.         0.4078241  0.         0.4078241\n",
            "  0.4078241  0.29017021 0.         0.4078241  0.         0.        ]]\n"
          ]
        }
      ]
    },
    {
      "cell_type": "code",
      "source": [
        "### 코사인 유사도 측정\n",
        "\n",
        "# cosine_similarity(X, Y)\n",
        "similarity = cosine_similarity(X,Y)\n",
        "\n",
        "#결과 확인하기\n",
        "print(similarity)"
      ],
      "metadata": {
        "colab": {
          "base_uri": "https://localhost:8080/"
        },
        "id": "3_PEDZyNOkKw",
        "outputId": "944ad450-c44d-4119-ae35-10c8c9c73873"
      },
      "execution_count": null,
      "outputs": [
        {
          "output_type": "stream",
          "name": "stdout",
          "text": [
            "[[0.1683975]]\n"
          ]
        }
      ]
    },
    {
      "cell_type": "code",
      "source": [
        "ko_tfidf = TfidfVectorizer()\n",
        "ko_sentences = [\"직원이 무단 퇴사를 했는데 손해 배상 청구할 수 있나요?\", \"무단 퇴사한 직원에 대한 손해 배상 청구가 가능한가요?\"]\n",
        "\n",
        "\n",
        "ko_tfidf.fit(ko_sentences)\n",
        "\n",
        "ko_vocab = ko_tfidf.vocabulary_\n",
        "\n",
        "print(ko_vocab)"
      ],
      "metadata": {
        "colab": {
          "base_uri": "https://localhost:8080/"
        },
        "id": "RUuDAJI4Q9VH",
        "outputId": "9da9c3a1-526b-4f40-fd14-c76ae71b1d6a"
      },
      "execution_count": null,
      "outputs": [
        {
          "output_type": "stream",
          "name": "stdout",
          "text": [
            "{'직원이': 7, '무단': 2, '퇴사를': 10, '했는데': 12, '손해': 4, '배상': 3, '청구할': 9, '있나요': 5, '퇴사한': 11, '직원에': 6, '대한': 1, '청구가': 8, '가능한가요': 0}\n"
          ]
        }
      ]
    },
    {
      "cell_type": "code",
      "source": [
        "ko_data1 = [ko_sentences[0]]\n",
        "ko_data2 = [ko_sentences[1]]\n",
        "\n",
        "print(ko_data1)\n",
        "print(ko_data2)"
      ],
      "metadata": {
        "colab": {
          "base_uri": "https://localhost:8080/"
        },
        "id": "gh8qNhggSZGY",
        "outputId": "463bb11e-be1e-48eb-af94-3b50e06eed13"
      },
      "execution_count": null,
      "outputs": [
        {
          "output_type": "stream",
          "name": "stdout",
          "text": [
            "['직원이 무단 퇴사를 했는데 손해 배상 청구할 수 있나요?']\n",
            "['무단 퇴사한 직원에 대한 손해 배상 청구가 가능한가요?']\n"
          ]
        }
      ]
    },
    {
      "cell_type": "code",
      "source": [
        "### transform().toarray() 함수 이용 -> 문장의 행렬화 완성\n",
        "X = ko_tfidf.transform(ko_data1).toarray()\n",
        "Y = ko_tfidf.transform(ko_data2).toarray()\n",
        "\n",
        "print(X)\n",
        "print(Y)"
      ],
      "metadata": {
        "colab": {
          "base_uri": "https://localhost:8080/"
        },
        "id": "bFAoraAdS4Aa",
        "outputId": "2b8a3649-4635-4f9e-e040-1ba1a8baee52"
      },
      "execution_count": null,
      "outputs": [
        {
          "output_type": "stream",
          "name": "stdout",
          "text": [
            "[[0.         0.         0.27867523 0.27867523 0.27867523 0.39166832\n",
            "  0.         0.39166832 0.         0.39166832 0.39166832 0.\n",
            "  0.39166832]]\n",
            "[[0.39166832 0.39166832 0.27867523 0.27867523 0.27867523 0.\n",
            "  0.39166832 0.         0.39166832 0.         0.         0.39166832\n",
            "  0.        ]]\n"
          ]
        }
      ]
    }
  ]
}